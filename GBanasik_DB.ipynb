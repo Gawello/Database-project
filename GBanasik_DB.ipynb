{
    "metadata": {
        "kernelspec": {
            "name": "SQL",
            "display_name": "SQL",
            "language": "sql"
        },
        "language_info": {
            "name": "sql",
            "version": ""
        }
    },
    "nbformat_minor": 2,
    "nbformat": 4,
    "cells": [
        {
            "cell_type": "markdown",
            "source": [
                "Tworzenie samej bazy danych"
            ],
            "metadata": {
                "language": "sql",
                "azdata_cell_guid": "2dd3285a-e3ab-44c3-942d-0cda9f7b2b88"
            },
            "attachments": {}
        },
        {
            "cell_type": "code",
            "source": [
                "IF NOT EXISTS (SELECT * FROM sys.databases WHERE name = 'Projekt_BD')\r\n",
                "BEGIN\r\n",
                "    CREATE DATABASE Projekt_BD;\r\n",
                "END;"
            ],
            "metadata": {
                "language": "sql",
                "azdata_cell_guid": "940f4547-2cae-41b7-b901-ed03efd24546"
            },
            "outputs": [],
            "execution_count": null
        },
        {
            "cell_type": "markdown",
            "source": [
                "Tworzenie wszystkich tabel w bazie danych"
            ],
            "metadata": {
                "language": "sql",
                "azdata_cell_guid": "a1c177ea-4912-4429-8126-c701155a027e"
            },
            "attachments": {}
        },
        {
            "cell_type": "code",
            "source": [
                "-- Tworzenie bazy danych\r\n",
                "\r\n",
                "\r\n",
                "-- Usuwanie wszystkich tabel w razie potrzeby\r\n",
                "-- DROP TABLE naprawy;\r\n",
                "-- DROP TABLE pracownicy;\r\n",
                "-- DROP TABLE Adresy;\r\n",
                "-- DROP TABLE Historia_pracownikow;\r\n",
                "-- DROP TABLE Klienci;\r\n",
                "-- DROP TABLE Kontakty;\r\n",
                "-- DROP TABLE Urzadzenia;\r\n",
                "-- DROP TABLE Urzadzenia_klientow;\r\n",
                "\r\n",
                "\r\n",
                "-- Tabela Pracownicy\r\n",
                "CREATE TABLE Pracownicy (\r\n",
                "    id INTEGER IDENTITY(1,1) PRIMARY KEY,\r\n",
                "    nazwisko VARCHAR(255) NOT NULL,\r\n",
                "\timie VARCHAR(255) NOT NULL\r\n",
                ");\r\n",
                "\r\n",
                "\r\n",
                "-- Tabela Klienci\r\n",
                "CREATE TABLE Klienci (\r\n",
                "    id INTEGER IDENTITY(1,1) PRIMARY KEY,\r\n",
                "    nazwa_firmy VARCHAR(255) NOT NULL\r\n",
                ");\r\n",
                "\r\n",
                "-- Tabela osób do kontaktu z klientami\r\n",
                "CREATE TABLE Kontakty (\r\n",
                "\tid INTEGER IDENTITY(1,1) PRIMARY KEY,\r\n",
                "\tid_firmy INTEGER REFERENCES Klienci(id),\r\n",
                "\tnazwisko VARCHAR(255) NOT NULL,\r\n",
                "\timie VARCHAR(255) NOT NULL,\r\n",
                "\ttel_kierunkowy VARCHAR(3),\r\n",
                "\ttelefon INTEGER,\r\n",
                "\temail VARCHAR(255)\r\n",
                ");\r\n",
                "\r\n",
                "-- Tabela adresów klientów\r\n",
                "CREATE TABLE Adresy (\r\n",
                "\tid INTEGER IDENTITY(1,1) PRIMARY KEY,\r\n",
                "\tid_klienta INTEGER REFERENCES Klienci(id),\r\n",
                "\tulica VARCHAR(255) NOT NULL,\r\n",
                "\tnumer_budynku VARCHAR(15) NOT NULL,\r\n",
                "\tnumer_lokalu VARCHAR(15),\r\n",
                "\tmiasto VARCHAR(255) NOT NULL,\r\n",
                "\tkod_pocztowy VARCHAR(15)\r\n",
                ");\r\n",
                "\r\n",
                "-- Tabela Urzadzenia\r\n",
                "CREATE TABLE Urzadzenia (\r\n",
                "    id INTEGER IDENTITY(1,1) PRIMARY KEY,\r\n",
                "    producent VARCHAR(255) NOT NULL,\r\n",
                "    model VARCHAR(255) NOT NULL\r\n",
                ");\r\n",
                "\r\n",
                "-- Tabela z urzadzeniami klientów\r\n",
                "CREATE TABLE Urzadzenia_klientow (\r\n",
                "\tid INTEGER IDENTITY(1,1) PRIMARY KEY,\r\n",
                "\tid_modelu INTEGER REFERENCES Urzadzenia(id),\r\n",
                "\tnumer_seryjny VARCHAR(255) NOT NULL\r\n",
                ");\r\n",
                "\r\n",
                "-- Tabela Naprawy\r\n",
                "CREATE TABLE Naprawy (\r\n",
                "    id INTEGER IDENTITY(1,1) PRIMARY KEY,\r\n",
                "    nr_naprawy INTEGER NOT NULL,\r\n",
                "    pracownik_id INTEGER REFERENCES Pracownicy(id),\r\n",
                "    klient_id INTEGER REFERENCES Klienci(id),\r\n",
                "    urzadzenie_id INTEGER REFERENCES Urzadzenia(id),\r\n",
                "    opis_klienta TEXT,\r\n",
                "    status VARCHAR(50) NOT NULL,\r\n",
                "    diagnoza TEXT,\r\n",
                "    wykonane_czynnosci TEXT,\r\n",
                "    czesci_do_wymiany TEXT,\r\n",
                "    data_przyjecia DATE NOT NULL,\r\n",
                "    data_rozpoczecia DATE,\r\n",
                "    data_zakonczenia DATE\r\n",
                ");\r\n",
                "\r\n",
                "-- Tabela Historia pracowników\r\n",
                "-- Tabela rejestrująca wszsystkich pracownikow biorących udział w naprawie\r\n",
                "CREATE TABLE Historia_pracownikow (\r\n",
                "\tid INTEGER IDENTITY(1,1) PRIMARY KEY,\r\n",
                "\tid_naprawy INTEGER REFERENCES Naprawy(id),\r\n",
                "\tid_pracownika INTEGER REFERENCES Pracownicy(id)\r\n",
                ");"
            ],
            "metadata": {
                "azdata_cell_guid": "1f78bb19-8bde-485a-9767-1048b873b610",
                "language": "sql",
                "tags": []
            },
            "outputs": [],
            "execution_count": null
        },
        {
            "cell_type": "markdown",
            "source": [
                "Uzupełnienie tabel danymi\n",
                "\n",
                "- Dodaję kilku przykładowych pracowników i tabelę urządzeń z której będzie można wykonać autouzupełnianie w aplikacji z GUI\\*\n",
                "- Reszta danych jest całkowicie przykładowa\n",
                "\n",
                "\\*Aplikacja GUI poza aktualnym projektem"
            ],
            "metadata": {
                "azdata_cell_guid": "5b863ef1-f576-4f01-a9cd-61290ebce390"
            },
            "attachments": {}
        },
        {
            "cell_type": "code",
            "source": [
                "-- Wprowadzanie danych Pracowników\r\n",
                "INSERT INTO Pracownicy\r\n",
                "VALUES ('Banasik', 'Gaweł'), \r\n",
                "\t('Siekierski', 'Paweł'),\r\n",
                "\t('Zasada', 'Mariusz'),\r\n",
                "\t('Golan', 'Bolesław'),\r\n",
                "\t('Kłopotowski', 'Paweł'),\r\n",
                "\t('Cupryn', 'Andrzej'),\r\n",
                "\t('Andrzejewski', 'Dawid');\r\n",
                "\r\n",
                "Select * FROM Pracownicy;\r\n",
                "\r\n",
                "-- Wprowadzanie danych urządzeń\r\n",
                "INSERT INTO Urzadzenia\tVALUES\r\n",
                "\t('Zebra', 'ZT410'),\r\n",
                "\t('Zebra', 'ZT230'),\r\n",
                "\t('Zebra', 'GX430t'),\r\n",
                "\t('Zebra', 'ZD420'),\r\n",
                "\t('Zebra', 'ZD620'),\r\n",
                "\t('Zebra', 'ZXP Series 7'),\r\n",
                "\t('Zebra', 'ZXP Series 9'),\r\n",
                "\t('Zebra', 'ZQ620'),\r\n",
                "\t('Zebra', 'ZQ630'),\r\n",
                "\t('Zebra', 'ZQ520'),\r\n",
                "\t('Toshiba', 'B-EX4T1'),\r\n",
                "\t('Toshiba', 'B-FV4T'),\r\n",
                "\t('Toshiba', 'B-EV4T'),\r\n",
                "\t('Toshiba', 'B-SA4TM'),\r\n",
                "\t('Toshiba', 'B-EX4T2'),\r\n",
                "\t('Toshiba', 'B-SX5T'),\r\n",
                "\t('Toshiba', 'B-852-R'),\r\n",
                "\t('Toshiba', 'B-EP2DL'),\r\n",
                "\t('Toshiba', 'B-EV4D'),\r\n",
                "\t('Toshiba', 'B-FV4D'),\r\n",
                "\t('Honeywell', 'PC42t'),\r\n",
                "\t('Honeywell', 'PM43'),\r\n",
                "\t('Honeywell', 'PX940'),\r\n",
                "\t('Honeywell', 'PM23c'),\r\n",
                "\t('Honeywell', 'PX4i'),\r\n",
                "\t('Honeywell', 'PD43'),\r\n",
                "\t('Honeywell', 'PM42'),\r\n",
                "\t('Honeywell', 'PC23d'),\r\n",
                "\t('Honeywell', 'PX6i'),\r\n",
                "\t('Honeywell', 'PC42d'),\r\n",
                "\t('TSC', 'TTP-244 Pro'),\r\n",
                "\t('TSC', 'TA210'),\r\n",
                "\t('TSC', 'TE200'),\r\n",
                "\t('TSC', 'TX200'),\r\n",
                "\t('TSC', 'TTP-247'),\r\n",
                "\t('TSC', 'TC200'),\r\n",
                "\t('TSC', 'ME240'),\r\n",
                "\t('TSC', 'MX240'),\r\n",
                "\t('TSC', 'TTP-225'),\r\n",
                "\t('TSC', 'TTP-2410MT');\r\n",
                "\r\n",
                "\r\n",
                "-- Klienci (Customers) - Sample Data\r\n",
                "INSERT INTO Klienci (nazwa_firmy)\r\n",
                "VALUES ('Bosch'), ('L''Oréal'), ('Tatra'), ('Firma_1'), ('Firma_23');\r\n",
                "\r\n",
                "-- Kontakty (Contacts) - Sample Data\r\n",
                "INSERT INTO Kontakty (id_firmy, nazwisko, imie, tel_kierunkowy, telefon, email)\r\n",
                "VALUES\r\n",
                "    (1, 'Contact1_LastName', 'Contact1_FirstName', '123', 456789, 'contact1@example.com'),\r\n",
                "    (2, 'Contact2_LastName', 'Contact2_FirstName', '456', 987654, 'contact2@example.com'),\r\n",
                "    (3, 'Contact3_LastName', 'Contact3_FirstName', '789', 123456, 'contact3@example.com'),\r\n",
                "    (4, 'Contact4_LastName', 'Contact4_FirstName', '111', 222333, 'contact4@example.com'),\r\n",
                "    (5, 'Contact5_LastName', 'Contact5_FirstName', '444', 555666, 'contact5@example.com');\r\n",
                "\r\n",
                "-- Adresy (Addresses) - Sample Data\r\n",
                "INSERT INTO Adresy (id_klienta, ulica, numer_budynku, numer_lokalu, miasto, kod_pocztowy)\r\n",
                "VALUES\r\n",
                "    (1, 'Street1', '123', 'A1', 'City1', '12345'),\r\n",
                "    (2, 'Street2', '456', 'B2', 'City2', '67890'),\r\n",
                "    (3, 'Street3', '789', 'C3', 'City3', '13579'),\r\n",
                "    (4, 'Street4', '111', 'D4', 'City4', '24680'),\r\n",
                "    (5, 'Street5', '222', 'E5', 'City5', '86420');\r\n",
                "\r\n",
                "-- Urzadzenia_klientow (Customers' Devices) - Sample Data\r\n",
                "INSERT INTO Urzadzenia_klientow (id_modelu, numer_seryjny)\r\n",
                "VALUES\r\n",
                "    (1, 'Serial1'),\r\n",
                "    (2, 'Serial2'),\r\n",
                "    (3, 'Serial3'),\r\n",
                "    (4, 'Serial4'),\r\n",
                "    (5, 'Serial5');\r\n",
                "\r\n",
                "-- Naprawy (Repairs) - Sample Data (continued)\r\n",
                "INSERT INTO Naprawy (nr_naprawy, pracownik_id, klient_id, urzadzenie_id, opis_klienta, status, diagnoza, wykonane_czynnosci, czesci_do_wymiany, data_przyjecia, data_rozpoczecia, data_zakonczenia)\r\n",
                "VALUES\r\n",
                "\t(1, 1, 1, 1, 'Description1', 'urządzenie przyjęte', 'Diagnosis1', 'Actions1', 'Parts1', '2023-01-01', '2023-01-02', '2023-01-03'),\r\n",
                "    (2, 1, 2, 2, 'Description2', 'w trakcie naprawy', 'Diagnosis2', 'Actions2', 'Parts2', '2023-02-01', '2023-02-02', '2023-02-03'),\r\n",
                "    (3, 2, 3, 3, 'Description3', 'w trakcie naprawy', 'Diagnosis3', 'Acition3', 'Parts3', '2023-03-01', '2023-03-02', '2023-03-03'),\r\n",
                "    (4, 2, 4, 4, 'Description4', 'urządzenie przyjęte', 'Diagnosis4', 'Actions4', 'Parts4', '2023-03-01', '2023-03-02', '2023-03-03'),\r\n",
                "    (5, 3, 5, 5, 'Description5', 'w trakcie naprawy', 'Diagnosis5', 'Actions5', 'Parts5', '2023-04-01', '2023-04-02', '2023-04-03');\r\n",
                "\r\n",
                "-- Historia_pracownikow (Employees' History) - Sample Data\r\n",
                "INSERT INTO Historia_pracownikow (id_naprawy, id_pracownika)\r\n",
                "VALUES\r\n",
                "    (1, 1),\r\n",
                "    (2, 1),\r\n",
                "    (3, 2),\r\n",
                "    (4, 2),\r\n",
                "    (5, 3);\r\n",
                ""
            ],
            "metadata": {
                "azdata_cell_guid": "69b35918-0eda-46fb-98cc-3090e434fb6b",
                "language": "sql",
                "tags": []
            },
            "outputs": [],
            "execution_count": null
        },
        {
            "cell_type": "markdown",
            "source": [
                "Lista procedur potrzebnych do obsługi bazy dancyh:\n",
                "\n",
                "- Pokaz\\_naprawy - Wyświetla listę ostatnich napraw\n",
                "- Edytuj\\_naprawe - Edycja wybranej naprawy\n",
                "- Dodaj\\_naprawe - Tworzenie nowego wpisu do listy napraw\n",
                "- Usun\\_naprawe - Usuwanie wpisu z tabeli naprawy\n",
                "- Dodaj\\_pracownika - Dodawanie nowego pracownika do bazy danych\n",
                "- Usun\\_pracownika - Usuwanie pracownika z bazy\n",
                "- Dodaj\\_klienta - Dodawanie nowego klienta\n",
                "- Dodaj\\_kontakt - Dodwanie osoby przypisanej do firmy (przedstawiciel danej firmy)\n",
                "- Dodaj\\_adres - Dodawanie adresu do klienta (jeden klient może posiadać wiele adresów)\n",
                "- Edytuj\\_klienta - Modyfikacja danych klienta\n",
                "- Edytuj\\_adres - Modyfikacja adresu klienta\n",
                "- Edytuj\\_kontakt - Modifikacja danych przedstawiciela\n",
                "- Usun\\_klienta - Usuwa klienta z bazy danych\n",
                "- Usuń\\_adres - Usuwa adres klienta\n",
                "- Usuń\\_kontakt - Usuwanie przedstawiciela\n",
                "- Stat\\_prac - Pokazuje ilosc napraw w jakiej dany pracownik brał udział w danym przedziale czasowym\n",
                "- Stat\\_klient - Pokazuje ilość napraw zleconych przez danego klieta\n",
                "- Pokaz\\_klient - Wyświelta listę danego klienta"
            ],
            "metadata": {
                "language": "sql",
                "azdata_cell_guid": "0f2a709c-f2bc-4ecb-a489-17dbddabe1b1"
            },
            "attachments": {}
        },
        {
            "cell_type": "code",
            "source": [
                "-- Procedura: Pokaz_naprawy\r\n",
                "-- Opis: Wyświetla listę ostatnich napraw\r\n",
                "CREATE PROCEDURE Pokaz_naprawy\r\n",
                "AS\r\n",
                "BEGIN\r\n",
                "    SELECT TOP 10 * FROM Naprawy ORDER BY data_przyjecia DESC;\r\n",
                "END;"
            ],
            "metadata": {
                "language": "sql",
                "azdata_cell_guid": "eab0ba30-4435-4a5a-97d5-04e5c3478fef",
                "tags": []
            },
            "outputs": [],
            "execution_count": null
        },
        {
            "cell_type": "code",
            "source": [
                "-- Procedura: Edytuj_naprawe\r\n",
                "-- Opis: Edycja wybranej naprawy\r\n",
                "CREATE PROCEDURE Edytuj_naprawe\r\n",
                "    @id_naprawy INTEGER,\r\n",
                "    @opis_klienta TEXT,\r\n",
                "    @status VARCHAR(50)\r\n",
                "AS\r\n",
                "BEGIN\r\n",
                "    UPDATE Naprawy\r\n",
                "    SET opis_klienta = @opis_klienta,\r\n",
                "        status = @status\r\n",
                "    WHERE id = @id_naprawy;\r\n",
                "END;"
            ],
            "metadata": {
                "language": "sql",
                "azdata_cell_guid": "87404fbe-9b80-4b2c-9c0c-fa2f192b2a50"
            },
            "outputs": [],
            "execution_count": null
        },
        {
            "cell_type": "code",
            "source": [
                "-- Procedura: Dodaj_naprawe\r\n",
                "-- Opis: Tworzenie nowego wpisu do listy napraw\r\n",
                "CREATE PROCEDURE Dodaj_naprawe\r\n",
                "    @nr_naprawy INTEGER,\r\n",
                "    @pracownik_id INTEGER,\r\n",
                "    @klient_id INTEGER,\r\n",
                "    @urzadzenie_id INTEGER,\r\n",
                "    @opis_klienta TEXT,\r\n",
                "    @status VARCHAR(50),\r\n",
                "    @diagnoza TEXT,\r\n",
                "    @wykonane_czynnosci TEXT,\r\n",
                "    @czesci_do_wymiany TEXT,\r\n",
                "    @data_przyjecia DATE,\r\n",
                "    @data_rozpoczecia DATE,\r\n",
                "    @data_zakonczenia DATE\r\n",
                "AS\r\n",
                "BEGIN\r\n",
                "    INSERT INTO Naprawy (nr_naprawy, pracownik_id, klient_id, urzadzenie_id, opis_klienta, status, diagnoza, wykonane_czynnosci, czesci_do_wymiany, data_przyjecia, data_rozpoczecia, data_zakonczenia)\r\n",
                "    VALUES (@nr_naprawy, @pracownik_id, @klient_id, @urzadzenie_id, @opis_klienta, @status, @diagnoza, @wykonane_czynnosci, @czesci_do_wymiany, @data_przyjecia, @data_rozpoczecia, @data_zakonczenia);\r\n",
                "END;"
            ],
            "metadata": {
                "language": "sql",
                "azdata_cell_guid": "a34c5c12-e1b3-422f-b043-c7cf21cce7f0"
            },
            "outputs": [
                {
                    "output_type": "display_data",
                    "data": {
                        "text/html": "Commands completed successfully."
                    },
                    "metadata": {}
                },
                {
                    "output_type": "display_data",
                    "data": {
                        "text/html": "Total execution time: 00:00:00.029"
                    },
                    "metadata": {}
                }
            ],
            "execution_count": 27
        },
        {
            "cell_type": "code",
            "source": [
                "-- Procedura: Usun_naprawe\r\n",
                "-- Opis: Usuwanie wpisu z tabeli naprawy\r\n",
                "CREATE PROCEDURE Usun_naprawe\r\n",
                "    @id_naprawy INTEGER\r\n",
                "AS\r\n",
                "BEGIN\r\n",
                "    DELETE FROM Naprawy WHERE id = @id_naprawy;\r\n",
                "END;"
            ],
            "metadata": {
                "language": "sql",
                "azdata_cell_guid": "5519a8f1-db8e-4565-afbc-91eaeda66170"
            },
            "outputs": [
                {
                    "output_type": "display_data",
                    "data": {
                        "text/html": "Commands completed successfully."
                    },
                    "metadata": {}
                },
                {
                    "output_type": "display_data",
                    "data": {
                        "text/html": "Total execution time: 00:00:00.071"
                    },
                    "metadata": {}
                }
            ],
            "execution_count": 17
        },
        {
            "cell_type": "code",
            "source": [
                "-- Procedura: Dodaj_pracownika\r\n",
                "-- Opis: Dodawanie nowego pracownika do bazy danych\r\n",
                "CREATE PROCEDURE Dodaj_pracownika\r\n",
                "    @nazwisko VARCHAR(255),\r\n",
                "    @imie VARCHAR(255)\r\n",
                "AS\r\n",
                "BEGIN\r\n",
                "    INSERT INTO Pracownicy (nazwisko, imie)\r\n",
                "    VALUES (@nazwisko, @imie);\r\n",
                "END;"
            ],
            "metadata": {
                "language": "sql",
                "azdata_cell_guid": "c37763b6-82ef-4911-8538-e4a29f810517"
            },
            "outputs": [
                {
                    "output_type": "display_data",
                    "data": {
                        "text/html": "Commands completed successfully."
                    },
                    "metadata": {}
                },
                {
                    "output_type": "display_data",
                    "data": {
                        "text/html": "Total execution time: 00:00:00.028"
                    },
                    "metadata": {}
                }
            ],
            "execution_count": 18
        },
        {
            "cell_type": "code",
            "source": [
                "-- Procedura: Usun_pracownika\r\n",
                "-- Opis: Usuwanie pracownika z bazy\r\n",
                "CREATE PROCEDURE Usun_pracownika\r\n",
                "    @id_pracownika INTEGER\r\n",
                "AS\r\n",
                "BEGIN\r\n",
                "    DELETE FROM Pracownicy WHERE id = @id_pracownika;\r\n",
                "END;"
            ],
            "metadata": {
                "language": "sql",
                "azdata_cell_guid": "8c470e6e-60aa-40d8-a176-3a139d157222"
            },
            "outputs": [
                {
                    "output_type": "display_data",
                    "data": {
                        "text/html": "Commands completed successfully."
                    },
                    "metadata": {}
                },
                {
                    "output_type": "display_data",
                    "data": {
                        "text/html": "Total execution time: 00:00:00.028"
                    },
                    "metadata": {}
                }
            ],
            "execution_count": 20
        },
        {
            "cell_type": "code",
            "source": [
                "DROP PROCEDURE UsunPracownika"
            ],
            "metadata": {
                "language": "sql",
                "azdata_cell_guid": "1e943aec-c266-4f10-8e9a-f86ff7af605c"
            },
            "outputs": [
                {
                    "output_type": "display_data",
                    "data": {
                        "text/html": "Commands completed successfully."
                    },
                    "metadata": {}
                },
                {
                    "output_type": "display_data",
                    "data": {
                        "text/html": "Total execution time: 00:00:00.030"
                    },
                    "metadata": {}
                }
            ],
            "execution_count": 21
        },
        {
            "cell_type": "code",
            "source": [
                "-- Procedura: Dodaj_klienta\r\n",
                "-- Opis: Dodawanie nowego klienta\r\n",
                "CREATE PROCEDURE Dodaj_klienta\r\n",
                "    @nazwa_firmy VARCHAR(255)\r\n",
                "AS\r\n",
                "BEGIN\r\n",
                "    INSERT INTO Klienci (nazwa_firmy)\r\n",
                "    VALUES (@nazwa_firmy);\r\n",
                "END;"
            ],
            "metadata": {
                "language": "sql",
                "azdata_cell_guid": "b79a4df4-638b-4f7a-9ddd-6f880e400bed"
            },
            "outputs": [],
            "execution_count": null
        },
        {
            "cell_type": "code",
            "source": [
                "-- Procedura: Dodaj_kontakt\r\n",
                "-- Opis: Dodawanie osoby przypisanej do firmy (przedstawiciel danej firmy)\r\n",
                "CREATE PROCEDURE Dodaj_kontakt\r\n",
                "    @nazwa_firmy VARCHAR(255),\r\n",
                "    @nazwisko VARCHAR(255),\r\n",
                "    @imie VARCHAR(255),\r\n",
                "    @tel_kierunkowy VARCHAR(3),\r\n",
                "    @telefon INTEGER,\r\n",
                "    @email VARCHAR(255)\r\n",
                "AS\r\n",
                "BEGIN\r\n",
                "    DECLARE @id_firmy INTEGER;\r\n",
                "    SELECT @id_firmy = id FROM Klienci WHERE nazwa_firmy = @nazwa_firmy;\r\n",
                "    \r\n",
                "    INSERT INTO Kontakty (id_firmy, nazwisko, imie, tel_kierunkowy, telefon, email)\r\n",
                "    VALUES (@id_firmy, @nazwisko, @imie, @tel_kierunkowy, @telefon, @email);\r\n",
                "END;"
            ],
            "metadata": {
                "language": "sql",
                "azdata_cell_guid": "092a201e-1636-4301-88e0-acc30da8d030"
            },
            "outputs": [],
            "execution_count": null
        },
        {
            "cell_type": "code",
            "source": [
                "-- Procedura: Dodaj_adres\r\n",
                "-- Opis: Dodawanie adresu do klienta (jeden klient może posiadać wiele adresów)\r\n",
                "CREATE PROCEDURE Dodaj_adres\r\n",
                "    @nazwa_firmy VARCHAR(255),\r\n",
                "    @ulica VARCHAR(255),\r\n",
                "    @numer_budynku VARCHAR(15),\r\n",
                "    @numer_lokalu VARCHAR(15),\r\n",
                "    @miasto VARCHAR(255),\r\n",
                "    @kod_pocztowy VARCHAR(15)\r\n",
                "AS\r\n",
                "BEGIN\r\n",
                "    DECLARE @id_klienta INTEGER;\r\n",
                "    SELECT @id_klienta = id FROM Klienci WHERE nazwa_firmy = @nazwa_firmy;\r\n",
                "    \r\n",
                "    INSERT INTO Adresy (id_klienta, ulica, numer_budynku, numer_lokalu, miasto, kod_pocztowy)\r\n",
                "    VALUES (@id_klienta, @ulica, @numer_budynku, @numer_lokalu, @miasto, @kod_pocztowy);\r\n",
                "END;"
            ],
            "metadata": {
                "language": "sql",
                "azdata_cell_guid": "0969f36d-b874-4674-a200-1d13cc23a1ca"
            },
            "outputs": [],
            "execution_count": null
        },
        {
            "cell_type": "code",
            "source": [
                "-- Procedura: Edytuj_klienta\r\n",
                "-- Opis: Modyfikacja danych klienta\r\n",
                "CREATE PROCEDURE Edytuj_klienta\r\n",
                "    @id_klienta INTEGER,\r\n",
                "    @nazwa_firmy VARCHAR(255)\r\n",
                "AS\r\n",
                "BEGIN\r\n",
                "    UPDATE Klienci\r\n",
                "    SET nazwa_firmy = @nazwa_firmy\r\n",
                "    WHERE id = @id_klienta;\r\n",
                "END;"
            ],
            "metadata": {
                "language": "sql",
                "azdata_cell_guid": "38524ec6-359c-47b2-a0fd-dfb53681310b"
            },
            "outputs": [],
            "execution_count": null
        },
        {
            "cell_type": "code",
            "source": [
                "-- Procedura: Edytuj_adres\r\n",
                "-- Opis: Modyfikacja adresu klienta\r\n",
                "CREATE PROCEDURE Edytuj_adres\r\n",
                "    @id_adresu INTEGER,\r\n",
                "    @ulica VARCHAR(255),\r\n",
                "    @numer_budynku VARCHAR(15),\r\n",
                "    @numer_lokalu VARCHAR(15),\r\n",
                "    @miasto VARCHAR(255),\r\n",
                "    @kod_pocztowy VARCHAR(15)\r\n",
                "AS\r\n",
                "BEGIN\r\n",
                "    UPDATE Adresy\r\n",
                "    SET ulica = @ulica,\r\n",
                "        numer_budynku = @numer_budynku,\r\n",
                "        numer_lokalu = @numer_lokalu,\r\n",
                "        miasto = @miasto,\r\n",
                "        kod_pocztowy = @kod_pocztowy\r\n",
                "    WHERE id = @id_adresu;\r\n",
                "END;"
            ],
            "metadata": {
                "language": "sql",
                "azdata_cell_guid": "23425599-49fb-4195-9b10-bb1ef5065fc1"
            },
            "outputs": [],
            "execution_count": null
        },
        {
            "cell_type": "code",
            "source": [
                "-- Procedura: Edytuj_kontakt\r\n",
                "-- Opis: Modyfikacja danych przedstawiciela\r\n",
                "CREATE PROCEDURE Edytuj_kontakt\r\n",
                "    @id_kontaktu INTEGER,\r\n",
                "    @nazwisko VARCHAR(255),\r\n",
                "    @imie VARCHAR(255),\r\n",
                "    @tel_kierunkowy VARCHAR(3),\r\n",
                "    @telefon INTEGER,\r\n",
                "    @email VARCHAR(255)\r\n",
                "AS\r\n",
                "BEGIN\r\n",
                "    UPDATE Kontakty\r\n",
                "    SET nazwisko = @nazwisko,\r\n",
                "        imie = @imie,\r\n",
                "        tel_kierunkowy = @tel_kierunkowy,\r\n",
                "        telefon = @telefon,\r\n",
                "        email = @email\r\n",
                "    WHERE id = @id_kontaktu;\r\n",
                "END;"
            ],
            "metadata": {
                "language": "sql",
                "azdata_cell_guid": "e903a95d-bde9-4e73-b412-c5d219b1a9d6"
            },
            "outputs": [],
            "execution_count": null
        },
        {
            "cell_type": "code",
            "source": [
                "-- Procedura: Usun_klienta\r\n",
                "-- Opis: Usuwa klienta z bazy danych\r\n",
                "CREATE PROCEDURE Usun_klienta\r\n",
                "    @id_klienta INTEGER\r\n",
                "AS\r\n",
                "BEGIN\r\n",
                "    DELETE FROM Klienci WHERE id = @id_klienta;\r\n",
                "END;"
            ],
            "metadata": {
                "language": "sql",
                "azdata_cell_guid": "f634265d-d1bc-417a-9db1-05efc4cc9b9f"
            },
            "outputs": [],
            "execution_count": null
        },
        {
            "cell_type": "code",
            "source": [
                "-- Procedura: Usun_adres\r\n",
                "-- Opis: Usuwa adres klienta\r\n",
                "CREATE PROCEDURE Usun_adres\r\n",
                "    @id_adresu INTEGER\r\n",
                "AS\r\n",
                "BEGIN\r\n",
                "    DELETE FROM Adresy WHERE id = @id_adresu;\r\n",
                "END;"
            ],
            "metadata": {
                "language": "sql",
                "azdata_cell_guid": "5dc85ce9-6b9e-44e4-a3e7-11e9f2211f79"
            },
            "outputs": [],
            "execution_count": null
        },
        {
            "cell_type": "code",
            "source": [
                "-- Procedura: Usun_kontakt\r\n",
                "-- Opis: Usuwanie przedstawiciela\r\n",
                "CREATE PROCEDURE Usun_kontakt\r\n",
                "    @id_kontaktu INTEGER\r\n",
                "AS\r\n",
                "BEGIN\r\n",
                "    DELETE FROM Kontakty WHERE id = @id_kontaktu;\r\n",
                "END;"
            ],
            "metadata": {
                "language": "sql",
                "azdata_cell_guid": "4a0647c9-d5dc-4558-8ed2-e7c5a8bb7536"
            },
            "outputs": [],
            "execution_count": null
        },
        {
            "cell_type": "code",
            "source": [
                "-- Procedura: Stat_prac\r\n",
                "-- Opis: Pokazuje ilość napraw w jakiej dany pracownik brał udział w danym przedziale czasowym\r\n",
                "CREATE PROCEDURE Stat_prac\r\n",
                "    @id_pracownika INTEGER,\r\n",
                "    @data_poczatkowa DATE,\r\n",
                "    @data_koncowa DATE\r\n",
                "AS\r\n",
                "BEGIN\r\n",
                "    SELECT COUNT(*) AS liczba_napraw\r\n",
                "    FROM Naprawy\r\n",
                "    WHERE pracownik_id = @id_pracownika\r\n",
                "    AND data_przyjecia BETWEEN @data_poczatkowa AND @data_koncowa;\r\n",
                "END;"
            ],
            "metadata": {
                "language": "sql",
                "azdata_cell_guid": "e80823bf-4988-4519-9b04-e6abb655330b"
            },
            "outputs": [],
            "execution_count": null
        },
        {
            "cell_type": "code",
            "source": [
                "-- Procedura: Stat_klient\r\n",
                "-- Opis: Pokazuje ilość napraw zleconych przez danego klienta\r\n",
                "CREATE PROCEDURE Stat_klient\r\n",
                "    @id_klienta INTEGER\r\n",
                "AS\r\n",
                "BEGIN\r\n",
                "    SELECT COUNT(*) AS liczba_napraw\r\n",
                "    FROM Naprawy\r\n",
                "    WHERE klient_id = @id_klienta;\r\n",
                "END;"
            ],
            "metadata": {
                "language": "sql",
                "azdata_cell_guid": "67ab6024-1fc6-48df-945d-676b2a13e334"
            },
            "outputs": [],
            "execution_count": null
        },
        {
            "cell_type": "code",
            "source": [
                "-- Procedura: Pokaz_klient\r\n",
                "-- Opis: Wyświetla listę danego klienta\r\n",
                "CREATE PROCEDURE Pokaz_klient\r\n",
                "    @id_klienta INTEGER\r\n",
                "AS\r\n",
                "BEGIN\r\n",
                "    SELECT *\r\n",
                "    FROM Klienci\r\n",
                "    WHERE id = @id_klienta;\r\n",
                "END;"
            ],
            "metadata": {
                "language": "sql",
                "azdata_cell_guid": "97586501-ee19-4b81-8d30-145c5c06dba3"
            },
            "outputs": [],
            "execution_count": null
        },
        {
            "cell_type": "markdown",
            "source": [
                "Punkty do spełnienia z wymagań:  \n",
                "  \n",
                "\n",
                "2. Śledzenie ilości napraw w miesiącu\n",
                "\n",
                "3. Ilość napraw dokonywanych przez każdego technika indywidualnie\n",
                "\n",
                "4. Wyszukiwanie napraw po kliencie i/lub numerze naprawy\n",
                "\n",
                "5. Sprawdzenie urządzeń którego producenta przychodzi najwięcej\n",
                "\n",
                "6. Naprawy oczekujące po przyjęciu oraz w takcie naprawy pozycjonują się jako pierwsze w celu łatwiejszego obsługiwania bieżących napraw"
            ],
            "metadata": {
                "azdata_cell_guid": "17b5e080-4d76-4cd3-b20c-f06a80c1e8dc"
            },
            "attachments": {}
        },
        {
            "cell_type": "code",
            "source": [
                "-- Śledzenie ilości napraw w miesiącu\r\n",
                "CREATE PROCEDURE Ilosc_napraw_w_miesiacu\r\n",
                "    @miesiac INT,\r\n",
                "    @rok INT\r\n",
                "AS\r\n",
                "BEGIN\r\n",
                "    SELECT COUNT(*) AS ilosc_napraw\r\n",
                "    FROM Naprawy\r\n",
                "    WHERE MONTH(data_przyjecia) = @miesiac AND YEAR(data_przyjecia) = @rok;\r\n",
                "END;\r\n",
                ""
            ],
            "metadata": {
                "azdata_cell_guid": "7469d1a9-02c7-4c86-85ae-ecada607236a",
                "language": "sql"
            },
            "outputs": [
                {
                    "output_type": "display_data",
                    "data": {
                        "text/html": "Commands completed successfully."
                    },
                    "metadata": {}
                },
                {
                    "output_type": "display_data",
                    "data": {
                        "text/html": "Total execution time: 00:00:00.070"
                    },
                    "metadata": {}
                }
            ],
            "execution_count": 2
        },
        {
            "cell_type": "code",
            "source": [
                "-- Ilość napraw dokonywanych przez każdego technika indywidualnie\r\n",
                "CREATE PROCEDURE Ilosc_napraw_technika\r\n",
                "    @id_technika INTEGER\r\n",
                "AS\r\n",
                "BEGIN\r\n",
                "    SELECT COUNT(*) AS ilosc_napraw\r\n",
                "    FROM Naprawy\r\n",
                "    WHERE pracownik_id = @id_technika;\r\n",
                "END;\r\n",
                ""
            ],
            "metadata": {
                "language": "sql",
                "azdata_cell_guid": "5d95b82b-24cf-447a-a5b1-50346cf063c8"
            },
            "outputs": [
                {
                    "output_type": "display_data",
                    "data": {
                        "text/html": "Commands completed successfully."
                    },
                    "metadata": {}
                },
                {
                    "output_type": "display_data",
                    "data": {
                        "text/html": "Total execution time: 00:00:00.032"
                    },
                    "metadata": {}
                }
            ],
            "execution_count": 3
        },
        {
            "cell_type": "code",
            "source": [
                "-- Wyszukiwanie napraw po kliencie i/lub numerze naprawy\r\n",
                "CREATE PROCEDURE Wyszukaj_naprawy\r\n",
                "    @id_klienta INTEGER = NULL,\r\n",
                "    @numer_naprawy INTEGER = NULL\r\n",
                "AS\r\n",
                "BEGIN\r\n",
                "    SELECT *\r\n",
                "    FROM Naprawy\r\n",
                "    WHERE (klient_id = @id_klienta OR @id_klienta IS NULL)\r\n",
                "        AND (nr_naprawy = @numer_naprawy OR @numer_naprawy IS NULL);\r\n",
                "END;\r\n",
                ""
            ],
            "metadata": {
                "language": "sql",
                "azdata_cell_guid": "a891f9c5-e740-4974-97ac-1d81768c617e"
            },
            "outputs": [
                {
                    "output_type": "display_data",
                    "data": {
                        "text/html": "Commands completed successfully."
                    },
                    "metadata": {}
                },
                {
                    "output_type": "display_data",
                    "data": {
                        "text/html": "Total execution time: 00:00:00.029"
                    },
                    "metadata": {}
                }
            ],
            "execution_count": 4
        },
        {
            "cell_type": "code",
            "source": [
                "-- Sprawdzenie urządzeń którego producenta przychodzi najwięcej\r\n",
                "CREATE PROCEDURE Najpopularniejszy_producent\r\n",
                "AS\r\n",
                "BEGIN\r\n",
                "    SELECT TOP 1 producent\r\n",
                "    FROM Urzadzenia_klientow uk\r\n",
                "    JOIN Urzadzenia u ON uk.id_modelu = u.id\r\n",
                "    GROUP BY producent\r\n",
                "    ORDER BY COUNT(*) DESC;\r\n",
                "END;\r\n",
                ""
            ],
            "metadata": {
                "language": "sql",
                "azdata_cell_guid": "0dafde7d-d199-49ea-af29-8ed4af47e381"
            },
            "outputs": [
                {
                    "output_type": "display_data",
                    "data": {
                        "text/html": "Commands completed successfully."
                    },
                    "metadata": {}
                },
                {
                    "output_type": "display_data",
                    "data": {
                        "text/html": "Total execution time: 00:00:00.027"
                    },
                    "metadata": {}
                }
            ],
            "execution_count": 5
        },
        {
            "cell_type": "code",
            "source": [
                "-- Naprawy oczekujące po przyjęciu oraz w takcie naprawy pozycjonują się jako pierwsze w celu łatwiejszego obsługiwania bieżących napraw\r\n",
                "CREATE PROCEDURE Wyswietl_naprawy\r\n",
                "AS\r\n",
                "BEGIN\r\n",
                "    SELECT *\r\n",
                "    FROM Naprawy\r\n",
                "    WHERE status IN ('Oczekuje', 'W trakcie naprawy')\r\n",
                "    ORDER BY CASE\r\n",
                "        WHEN status = 'Oczekuje' THEN 0\r\n",
                "        WHEN status = 'W trakcie naprawy' THEN 1\r\n",
                "    END, data_przyjecia;\r\n",
                "END;\r\n",
                ""
            ],
            "metadata": {
                "language": "sql",
                "azdata_cell_guid": "31ac605e-8dec-4564-a65f-88146cd76642",
                "tags": []
            },
            "outputs": [
                {
                    "output_type": "display_data",
                    "data": {
                        "text/html": "Commands completed successfully."
                    },
                    "metadata": {}
                },
                {
                    "output_type": "display_data",
                    "data": {
                        "text/html": "Total execution time: 00:00:00.030"
                    },
                    "metadata": {}
                }
            ],
            "execution_count": 6
        },
        {
            "cell_type": "markdown",
            "source": [
                "Wywołanie procedur (dane przypadkowe)"
            ],
            "metadata": {
                "language": "sql",
                "azdata_cell_guid": "91f2fb87-1d1f-4167-87f8-16c5c8b0309d"
            },
            "attachments": {}
        },
        {
            "cell_type": "code",
            "source": [
                "EXEC Ilosc_napraw_w_miesiacu @miesiac = 6, @rok = 2023;\r\n",
                "EXEC Ilosc_napraw_technika @id_technika = 1;\r\n",
                "EXEC Wyszukaj_naprawy @id_klienta = 2, @numer_naprawy = 1001;\r\n",
                "EXEC Najpopularniejszy_producent;\r\n",
                "EXEC Wyswietl_naprawy;\r\n",
                ""
            ],
            "metadata": {
                "language": "sql",
                "azdata_cell_guid": "77d41842-4cf7-45be-a5cb-11313afc86b0",
                "tags": []
            },
            "outputs": [
                {
                    "output_type": "display_data",
                    "data": {
                        "text/html": "(1 row affected)"
                    },
                    "metadata": {}
                },
                {
                    "output_type": "display_data",
                    "data": {
                        "text/html": "(1 row affected)"
                    },
                    "metadata": {}
                },
                {
                    "output_type": "display_data",
                    "data": {
                        "text/html": "(0 rows affected)"
                    },
                    "metadata": {}
                },
                {
                    "output_type": "display_data",
                    "data": {
                        "text/html": "(1 row affected)"
                    },
                    "metadata": {}
                },
                {
                    "output_type": "display_data",
                    "data": {
                        "text/html": "(0 rows affected)"
                    },
                    "metadata": {}
                },
                {
                    "output_type": "display_data",
                    "data": {
                        "text/html": "Total execution time: 00:00:00.033"
                    },
                    "metadata": {}
                },
                {
                    "output_type": "execute_result",
                    "metadata": {},
                    "execution_count": 22,
                    "data": {
                        "application/vnd.dataresource+json": {
                            "schema": {
                                "fields": [
                                    {
                                        "name": "ilosc_napraw"
                                    }
                                ]
                            },
                            "data": [
                                {
                                    "ilosc_napraw": "0"
                                }
                            ]
                        },
                        "text/html": [
                            "<table>",
                            "<tr><th>ilosc_napraw</th></tr>",
                            "<tr><td>0</td></tr>",
                            "</table>"
                        ]
                    }
                },
                {
                    "output_type": "execute_result",
                    "metadata": {},
                    "execution_count": 22,
                    "data": {
                        "application/vnd.dataresource+json": {
                            "schema": {
                                "fields": [
                                    {
                                        "name": "ilosc_napraw"
                                    }
                                ]
                            },
                            "data": [
                                {
                                    "ilosc_napraw": "0"
                                }
                            ]
                        },
                        "text/html": [
                            "<table>",
                            "<tr><th>ilosc_napraw</th></tr>",
                            "<tr><td>0</td></tr>",
                            "</table>"
                        ]
                    }
                },
                {
                    "output_type": "execute_result",
                    "metadata": {},
                    "execution_count": 22,
                    "data": {
                        "application/vnd.dataresource+json": {
                            "schema": {
                                "fields": [
                                    {
                                        "name": "id"
                                    },
                                    {
                                        "name": "nr_naprawy"
                                    },
                                    {
                                        "name": "pracownik_id"
                                    },
                                    {
                                        "name": "klient_id"
                                    },
                                    {
                                        "name": "urzadzenie_id"
                                    },
                                    {
                                        "name": "opis_klienta"
                                    },
                                    {
                                        "name": "status"
                                    },
                                    {
                                        "name": "diagnoza"
                                    },
                                    {
                                        "name": "wykonane_czynnosci"
                                    },
                                    {
                                        "name": "czesci_do_wymiany"
                                    },
                                    {
                                        "name": "data_przyjecia"
                                    },
                                    {
                                        "name": "data_rozpoczecia"
                                    },
                                    {
                                        "name": "data_zakonczenia"
                                    }
                                ]
                            },
                            "data": []
                        },
                        "text/html": [
                            "<table>",
                            "<tr><th>id</th><th>nr_naprawy</th><th>pracownik_id</th><th>klient_id</th><th>urzadzenie_id</th><th>opis_klienta</th><th>status</th><th>diagnoza</th><th>wykonane_czynnosci</th><th>czesci_do_wymiany</th><th>data_przyjecia</th><th>data_rozpoczecia</th><th>data_zakonczenia</th></tr>",
                            "</table>"
                        ]
                    }
                },
                {
                    "output_type": "execute_result",
                    "metadata": {},
                    "execution_count": 22,
                    "data": {
                        "application/vnd.dataresource+json": {
                            "schema": {
                                "fields": [
                                    {
                                        "name": "producent"
                                    }
                                ]
                            },
                            "data": [
                                {
                                    "producent": "Zebra"
                                }
                            ]
                        },
                        "text/html": [
                            "<table>",
                            "<tr><th>producent</th></tr>",
                            "<tr><td>Zebra</td></tr>",
                            "</table>"
                        ]
                    }
                },
                {
                    "output_type": "execute_result",
                    "metadata": {},
                    "execution_count": 22,
                    "data": {
                        "application/vnd.dataresource+json": {
                            "schema": {
                                "fields": [
                                    {
                                        "name": "id"
                                    },
                                    {
                                        "name": "nr_naprawy"
                                    },
                                    {
                                        "name": "pracownik_id"
                                    },
                                    {
                                        "name": "klient_id"
                                    },
                                    {
                                        "name": "urzadzenie_id"
                                    },
                                    {
                                        "name": "opis_klienta"
                                    },
                                    {
                                        "name": "status"
                                    },
                                    {
                                        "name": "diagnoza"
                                    },
                                    {
                                        "name": "wykonane_czynnosci"
                                    },
                                    {
                                        "name": "czesci_do_wymiany"
                                    },
                                    {
                                        "name": "data_przyjecia"
                                    },
                                    {
                                        "name": "data_rozpoczecia"
                                    },
                                    {
                                        "name": "data_zakonczenia"
                                    }
                                ]
                            },
                            "data": []
                        },
                        "text/html": [
                            "<table>",
                            "<tr><th>id</th><th>nr_naprawy</th><th>pracownik_id</th><th>klient_id</th><th>urzadzenie_id</th><th>opis_klienta</th><th>status</th><th>diagnoza</th><th>wykonane_czynnosci</th><th>czesci_do_wymiany</th><th>data_przyjecia</th><th>data_rozpoczecia</th><th>data_zakonczenia</th></tr>",
                            "</table>"
                        ]
                    }
                }
            ],
            "execution_count": 22
        },
        {
            "cell_type": "markdown",
            "source": [
                "Dodawanie zawartości procedurami"
            ],
            "metadata": {
                "language": "sql",
                "azdata_cell_guid": "ac4d56a1-6644-4662-8d2c-14de63cfc68a"
            },
            "attachments": {}
        },
        {
            "cell_type": "code",
            "source": [
                "-- Dodawanie napraw\r\n",
                "EXEC Dodaj_naprawe 1, 6, 1, 1, 'Problem z urządzeniem', 'Oczekuje', NULL, NULL, NULL, '2023-06-01', NULL, NULL;\r\n",
                "EXEC Dodaj_naprawe 2, 7, 2, 2, 'Uszkodzony ekran', 'W trakcie naprawy', 'Diagnoza: Uszkodzony ekran LCD', 'Wymieniono ekran LCD', 'Brak', '2023-06-02', '2023-06-03', NULL;\r\n",
                "EXEC Dodaj_naprawe 3, 8, 3, 3, 'Nie działa zasilanie', 'Zakończona', 'Diagnoza: Uszkodzony zasilacz', 'Naprawiono zasilanie', 'Nowy zasilacz', '2023-06-03', '2023-06-03', '2023-06-04';\r\n",
                "EXEC Dodaj_naprawe 4, 9, 4, 4, 'Brak dźwięku', 'Oczekuje', NULL, NULL, NULL, '2023-06-04', NULL, NULL;\r\n",
                "EXEC Dodaj_naprawe 5, 10, 5, 5, 'Przegrzewanie się', 'W trakcie naprawy', 'Diagnoza: Problem z chłodzeniem', 'Czyszczenie wentylatora, wymiana pasty termoprzewodzącej', 'Brak', '2023-06-05', '2023-06-06', NULL;\r\n",
                "EXEC Dodaj_naprawe 1, 11, 1, 1, 'Awaria zasilania', 'Zakończona', 'Diagnoza: Uszkodzony zasilacz', 'Naprawiono zasilanie', 'Nowy zasilacz', '2023-06-06', '2023-06-07', '2023-06-08';\r\n",
                "EXEC Dodaj_naprawe 3, 12, 3, 3, 'Uszkodzony wyświetlacz', 'Oczekuje', NULL, NULL, NULL, '2023-06-07', NULL, NULL;\r\n",
                "EXEC Dodaj_naprawe 2, 13, 2, 2, 'Problemy z oprogramowaniem', 'W trakcie naprawy', 'Diagnoza: Konieczna reinstalacja systemu operacyjnego', 'Zainstalowano nowy system operacyjny', 'Brak', '2023-06-08', '2023-06-09', NULL;\r\n",
                "EXEC Dodaj_naprawe 4, 11, 4, 4, 'Uszkodzenie mechaniczne', 'Oczekuje', NULL, NULL, NULL, '2023-06-09', NULL, NULL;\r\n",
                "EXEC Dodaj_naprawe 5, 12, 5, 5, 'Brak połączenia sieciowego', 'W trakcie naprawy', 'Diagnoza: Uszkodzona karta sieciowa', 'Wymieniono kartę sieciową', 'Nowa karta sieciowa', '2023-06-10', '2023-06-11', NULL;\r\n",
                "\r\n",
                ""
            ],
            "metadata": {
                "language": "sql",
                "azdata_cell_guid": "0c4f3cd8-079e-46ee-b4c2-2362d1048216",
                "tags": []
            },
            "outputs": [
                {
                    "output_type": "display_data",
                    "data": {
                        "text/html": "(1 row affected)"
                    },
                    "metadata": {}
                },
                {
                    "output_type": "display_data",
                    "data": {
                        "text/html": "(1 row affected)"
                    },
                    "metadata": {}
                },
                {
                    "output_type": "display_data",
                    "data": {
                        "text/html": "(1 row affected)"
                    },
                    "metadata": {}
                },
                {
                    "output_type": "display_data",
                    "data": {
                        "text/html": "(1 row affected)"
                    },
                    "metadata": {}
                },
                {
                    "output_type": "display_data",
                    "data": {
                        "text/html": "(1 row affected)"
                    },
                    "metadata": {}
                },
                {
                    "output_type": "display_data",
                    "data": {
                        "text/html": "(1 row affected)"
                    },
                    "metadata": {}
                },
                {
                    "output_type": "display_data",
                    "data": {
                        "text/html": "(1 row affected)"
                    },
                    "metadata": {}
                },
                {
                    "output_type": "display_data",
                    "data": {
                        "text/html": "(1 row affected)"
                    },
                    "metadata": {}
                },
                {
                    "output_type": "display_data",
                    "data": {
                        "text/html": "(1 row affected)"
                    },
                    "metadata": {}
                },
                {
                    "output_type": "display_data",
                    "data": {
                        "text/html": "(1 row affected)"
                    },
                    "metadata": {}
                },
                {
                    "output_type": "display_data",
                    "data": {
                        "text/html": "Total execution time: 00:00:00.101"
                    },
                    "metadata": {}
                }
            ],
            "execution_count": 32
        },
        {
            "cell_type": "code",
            "source": [
                "SELECT * FROM Urzadzenia"
            ],
            "metadata": {
                "language": "sql",
                "azdata_cell_guid": "a40b78ca-d017-4679-aa34-73f43ee2ecd7",
                "tags": []
            },
            "outputs": [
{
    "output_type": "display_data",
    "data": {
        "text/html": "(40 rows affected)"
    },
    "metadata": {}
}, {
    "output_type": "display_data",
    "data": {
        "text/html": "Total execution time: 00:00:00.027"
    },
    "metadata": {}
}, {
    "output_type": "execute_result",
    "metadata": {},
    "execution_count": 37,
    "data": {
        "application/vnd.dataresource+json": {
            "schema": {
                "fields": [
                    {
                        "name": "id"
                    },
                    {
                        "name": "producent"
                    },
                    {
                        "name": "model"
                    }
                ]
            },
            "data": [
                {
                    "id": "1",
                    "producent": "Zebra",
                    "model": "ZT410"
                },
                {
                    "id": "2",
                    "producent": "Zebra",
                    "model": "ZT230"
                },
                {
                    "id": "3",
                    "producent": "Zebra",
                    "model": "GX430t"
                },
                {
                    "id": "4",
                    "producent": "Zebra",
                    "model": "ZD420"
                },
                {
                    "id": "5",
                    "producent": "Zebra",
                    "model": "ZD620"
                },
                {
                    "id": "6",
                    "producent": "Zebra",
                    "model": "ZXP Series 7"
                },
                {
                    "id": "7",
                    "producent": "Zebra",
                    "model": "ZXP Series 9"
                },
                {
                    "id": "8",
                    "producent": "Zebra",
                    "model": "ZQ620"
                },
                {
                    "id": "9",
                    "producent": "Zebra",
                    "model": "ZQ630"
                },
                {
                    "id": "10",
                    "producent": "Zebra",
                    "model": "ZQ520"
                },
                {
                    "id": "11",
                    "producent": "Toshiba",
                    "model": "B-EX4T1"
                },
                {
                    "id": "12",
                    "producent": "Toshiba",
                    "model": "B-FV4T"
                },
                {
                    "id": "13",
                    "producent": "Toshiba",
                    "model": "B-EV4T"
                },
                {
                    "id": "14",
                    "producent": "Toshiba",
                    "model": "B-SA4TM"
                },
                {
                    "id": "15",
                    "producent": "Toshiba",
                    "model": "B-EX4T2"
                },
                {
                    "id": "16",
                    "producent": "Toshiba",
                    "model": "B-SX5T"
                },
                {
                    "id": "17",
                    "producent": "Toshiba",
                    "model": "B-852-R"
                },
                {
                    "id": "18",
                    "producent": "Toshiba",
                    "model": "B-EP2DL"
                },
                {
                    "id": "19",
                    "producent": "Toshiba",
                    "model": "B-EV4D"
                },
                {
                    "id": "20",
                    "producent": "Toshiba",
                    "model": "B-FV4D"
                },
                {
                    "id": "21",
                    "producent": "Honeywell",
                    "model": "PC42t"
                },
                {
                    "id": "22",
                    "producent": "Honeywell",
                    "model": "PM43"
                },
                {
                    "id": "23",
                    "producent": "Honeywell",
                    "model": "PX940"
                },
                {
                    "id": "24",
                    "producent": "Honeywell",
                    "model": "PM23c"
                },
                {
                    "id": "25",
                    "producent": "Honeywell",
                    "model": "PX4i"
                },
                {
                    "id": "26",
                    "producent": "Honeywell",
                    "model": "PD43"
                },
                {
                    "id": "27",
                    "producent": "Honeywell",
                    "model": "PM42"
                },
                {
                    "id": "28",
                    "producent": "Honeywell",
                    "model": "PC23d"
                },
                {
                    "id": "29",
                    "producent": "Honeywell",
                    "model": "PX6i"
                },
                {
                    "id": "30",
                    "producent": "Honeywell",
                    "model": "PC42d"
                },
                {
                    "id": "31",
                    "producent": "TSC",
                    "model": "TTP-244 Pro"
                },
                {
                    "id": "32",
                    "producent": "TSC",
                    "model": "TA210"
                },
                {
                    "id": "33",
                    "producent": "TSC",
                    "model": "TE200"
                },
                {
                    "id": "34",
                    "producent": "TSC",
                    "model": "TX200"
                },
                {
                    "id": "35",
                    "producent": "TSC",
                    "model": "TTP-247"
                },
                {
                    "id": "36",
                    "producent": "TSC",
                    "model": "TC200"
                },
                {
                    "id": "37",
                    "producent": "TSC",
                    "model": "ME240"
                },
                {
                    "id": "38",
                    "producent": "TSC",
                    "model": "MX240"
                },
                {
                    "id": "39",
                    "producent": "TSC",
                    "model": "TTP-225"
                },
                {
                    "id": "40",
                    "producent": "TSC",
                    "model": "TTP-2410MT"
                }
            ]
        },
        "text/html": [
            "<table>",
            "<tr><th>id</th><th>producent</th><th>model</th></tr>",
            "<tr><td>1</td><td>Zebra</td><td>ZT410</td></tr>",
            "<tr><td>2</td><td>Zebra</td><td>ZT230</td></tr>",
            "<tr><td>3</td><td>Zebra</td><td>GX430t</td></tr>",
            "<tr><td>4</td><td>Zebra</td><td>ZD420</td></tr>",
            "<tr><td>5</td><td>Zebra</td><td>ZD620</td></tr>",
            "<tr><td>6</td><td>Zebra</td><td>ZXP Series 7</td></tr>",
            "<tr><td>7</td><td>Zebra</td><td>ZXP Series 9</td></tr>",
            "<tr><td>8</td><td>Zebra</td><td>ZQ620</td></tr>",
            "<tr><td>9</td><td>Zebra</td><td>ZQ630</td></tr>",
            "<tr><td>10</td><td>Zebra</td><td>ZQ520</td></tr>",
            "<tr><td>11</td><td>Toshiba</td><td>B-EX4T1</td></tr>",
            "<tr><td>12</td><td>Toshiba</td><td>B-FV4T</td></tr>",
            "<tr><td>13</td><td>Toshiba</td><td>B-EV4T</td></tr>",
            "<tr><td>14</td><td>Toshiba</td><td>B-SA4TM</td></tr>",
            "<tr><td>15</td><td>Toshiba</td><td>B-EX4T2</td></tr>",
            "<tr><td>16</td><td>Toshiba</td><td>B-SX5T</td></tr>",
            "<tr><td>17</td><td>Toshiba</td><td>B-852-R</td></tr>",
            "<tr><td>18</td><td>Toshiba</td><td>B-EP2DL</td></tr>",
            "<tr><td>19</td><td>Toshiba</td><td>B-EV4D</td></tr>",
            "<tr><td>20</td><td>Toshiba</td><td>B-FV4D</td></tr>",
            "<tr><td>21</td><td>Honeywell</td><td>PC42t</td></tr>",
            "<tr><td>22</td><td>Honeywell</td><td>PM43</td></tr>",
            "<tr><td>23</td><td>Honeywell</td><td>PX940</td></tr>",
            "<tr><td>24</td><td>Honeywell</td><td>PM23c</td></tr>",
            "<tr><td>25</td><td>Honeywell</td><td>PX4i</td></tr>",
            "<tr><td>26</td><td>Honeywell</td><td>PD43</td></tr>",
            "<tr><td>27</td><td>Honeywell</td><td>PM42</td></tr>",
            "<tr><td>28</td><td>Honeywell</td><td>PC23d</td></tr>",
            "<tr><td>29</td><td>Honeywell</td><td>PX6i</td></tr>",
            "<tr><td>30</td><td>Honeywell</td><td>PC42d</td></tr>",
            "<tr><td>31</td><td>TSC</td><td>TTP-244 Pro</td></tr>",
            "<tr><td>32</td><td>TSC</td><td>TA210</td></tr>",
            "<tr><td>33</td><td>TSC</td><td>TE200</td></tr>",
            "<tr><td>34</td><td>TSC</td><td>TX200</td></tr>",
            "<tr><td>35</td><td>TSC</td><td>TTP-247</td></tr>",
            "<tr><td>36</td><td>TSC</td><td>TC200</td></tr>",
            "<tr><td>37</td><td>TSC</td><td>ME240</td></tr>",
            "<tr><td>38</td><td>TSC</td><td>MX240</td></tr>",
            "<tr><td>39</td><td>TSC</td><td>TTP-225</td></tr>",
            "<tr><td>40</td><td>TSC</td><td>TTP-2410MT</td></tr>",
            "</table>"
        ]
    }
}
],
            "execution_count": 37
        }
    ]
}