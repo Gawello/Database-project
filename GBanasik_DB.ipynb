{
    "metadata": {
        "kernelspec": {
            "name": "SQL",
            "display_name": "SQL",
            "language": "sql"
        },
        "language_info": {
            "name": "sql",
            "version": ""
        }
    },
    "nbformat_minor": 2,
    "nbformat": 4,
    "cells": [
        {
            "cell_type": "markdown",
            "source": [
                "Tworzenie samej bazy danych"
            ],
            "metadata": {
                "language": "sql",
                "azdata_cell_guid": "2dd3285a-e3ab-44c3-942d-0cda9f7b2b88"
            },
            "attachments": {}
        },
        {
            "cell_type": "code",
            "source": [
                "CREATE DATABASE Projekt_BD"
            ],
            "metadata": {
                "language": "sql",
                "azdata_cell_guid": "940f4547-2cae-41b7-b901-ed03efd24546"
            },
            "outputs": [],
            "execution_count": null
        },
        {
            "cell_type": "markdown",
            "source": [
                "Tworzenie wszystkich tabel w bazie danych"
            ],
            "metadata": {
                "language": "sql",
                "azdata_cell_guid": "a1c177ea-4912-4429-8126-c701155a027e"
            },
            "attachments": {}
        },
        {
            "cell_type": "code",
            "source": [
                "-- Tworzenie bazy danych\r\n",
                "DROP TABLE naprawy;\r\n",
                "DROP TABLE pracownicy;\r\n",
                "DROP TABLE Adresy;\r\n",
                "DROP TABLE Historia_pracownikow;\r\n",
                "DROP TABLE Klienci;\r\n",
                "DROP TABLE Kontakty;\r\n",
                "DROP TABLE Urzadzenia;\r\n",
                "DROP TABLE Urzadzenia_klientow;\r\n",
                "\r\n",
                "\r\n",
                "-- Tabela Pracownicy\r\n",
                "CREATE TABLE Pracownicy (\r\n",
                "    id INTEGER IDENTITY(1,1) PRIMARY KEY,\r\n",
                "    nazwisko VARCHAR(255) NOT NULL,\r\n",
                "\timie VARCHAR(255) NOT NULL\r\n",
                ");\r\n",
                "\r\n",
                "\r\n",
                "-- Tabela Klienci\r\n",
                "CREATE TABLE Klienci (\r\n",
                "    id INTEGER IDENTITY(1,1) PRIMARY KEY,\r\n",
                "    nazwa_firmy VARCHAR(255) NOT NULL\r\n",
                ");\r\n",
                "\r\n",
                "-- Tabela osób do kontaktu z klientami\r\n",
                "CREATE TABLE Kontakty (\r\n",
                "\tid INTEGER IDENTITY(1,1) PRIMARY KEY,\r\n",
                "\tid_firmy INTEGER REFERENCES Klienci(id),\r\n",
                "\tnazwisko VARCHAR(255) NOT NULL,\r\n",
                "\timie VARCHAR(255) NOT NULL,\r\n",
                "\ttel_kierunkowy VARCHAR(3),\r\n",
                "\ttelefon INTEGER,\r\n",
                "\temail VARCHAR(255)\r\n",
                ");\r\n",
                "\r\n",
                "-- Tabela adresów klientów\r\n",
                "CREATE TABLE Adresy (\r\n",
                "\tid INTEGER IDENTITY(1,1) PRIMARY KEY,\r\n",
                "\tid_klienta INTEGER REFERENCES Klienci(id),\r\n",
                "\tulica VARCHAR(255) NOT NULL,\r\n",
                "\tnumer_budynku VARCHAR(15) NOT NULL,\r\n",
                "\tnumer_lokalu VARCHAR(15),\r\n",
                "\tmiasto VARCHAR(255) NOT NULL,\r\n",
                "\tkod_pocztowy VARCHAR(15)\r\n",
                ");\r\n",
                "\r\n",
                "-- Tabela Urzadzenia\r\n",
                "CREATE TABLE Urzadzenia (\r\n",
                "    id INTEGER IDENTITY(1,1) PRIMARY KEY,\r\n",
                "    producent VARCHAR(255) NOT NULL,\r\n",
                "    model VARCHAR(255) NOT NULL\r\n",
                ");\r\n",
                "\r\n",
                "-- Tabela z urzadzeniami klientów\r\n",
                "CREATE TABLE Urzadzenia_klientow (\r\n",
                "\tid INTEGER IDENTITY(1,1) PRIMARY KEY,\r\n",
                "\tid_modelu INTEGER REFERENCES Urzadzenia(id),\r\n",
                "\tnumer_seryjny VARCHAR(255) NOT NULL\r\n",
                ");\r\n",
                "\r\n",
                "-- Tabela Naprawy\r\n",
                "CREATE TABLE Naprawy (\r\n",
                "    id INTEGER IDENTITY(1,1) PRIMARY KEY,\r\n",
                "    nr_naprawy INTEGER NOT NULL,\r\n",
                "    pracownik_id INTEGER REFERENCES Pracownicy(id),\r\n",
                "    klient_id INTEGER REFERENCES Klienci(id),\r\n",
                "    urzadzenie_id INTEGER REFERENCES Urzadzenia(id),\r\n",
                "    opis_klienta TEXT,\r\n",
                "    status VARCHAR(50) NOT NULL,\r\n",
                "    diagnoza TEXT,\r\n",
                "    wykonane_czynnosci TEXT,\r\n",
                "    czesci_do_wymiany TEXT,\r\n",
                "    data_przyjecia DATE NOT NULL,\r\n",
                "    data_rozpoczecia DATE,\r\n",
                "    data_zakonczenia DATE\r\n",
                ");\r\n",
                "\r\n",
                "-- Tabela Historia pracowników\r\n",
                "-- Tabela rejestrująca wszsystkich pracownikow biorących udział w naprawie\r\n",
                "CREATE TABLE Historia_pracownikow (\r\n",
                "\tid INTEGER IDENTITY(1,1) PRIMARY KEY,\r\n",
                "\tid_naprawy INTEGER REFERENCES Naprawy(id),\r\n",
                "\tid_pracownika INTEGER REFERENCES Pracownicy(id)\r\n",
                ");\r\n",
                "\r\n",
                "-- 1. Zbieranie wszystkich napraw\r\n",
                "SELECT * FROM Naprawy;\r\n",
                "\r\n",
                "-- 2. Śledzenie ilości napraw w miesiącu\r\n",
                "SELECT COUNT(*), strftime('%Y-%m', data_przyjecia) as Miesiac\r\n",
                "FROM Naprawy\r\n",
                "GROUP BY Miesiac;\r\n",
                "\r\n",
                "-- 3. Ilość napraw dokonywanych przez każdego technika indywidualnie\r\n",
                "SELECT pracownik_id, nazwisko, COUNT(*) as liczba_napraw\r\n",
                "FROM Naprawy\r\n",
                "JOIN Pracownicy ON Pracownicy.id = Naprawy.pracownik_id\r\n",
                "GROUP BY pracownik_id;\r\n",
                "\r\n",
                "-- 4. Wyszukiwanie napraw po kliencie i/lub numerze naprawy\r\n",
                "-- Zmienne: @nazwa_firmy, @nr_naprawy\r\n",
                "SELECT * FROM Naprawy\r\n",
                "JOIN Klienci ON Klienci.id = Naprawy.klient_id\r\n",
                "WHERE (nazwa_firmy = @nazwa_firmy OR @nazwa_firmy IS NULL)\r\n",
                "AND (nr_naprawy = @nr_naprawy OR @nr_naprawy IS NULL);\r\n",
                "\r\n",
                "-- 5. Sprawdzenie urządzeń, których producenta przychodzi najwięcej\r\n",
                "SELECT producent, COUNT(*) as liczba_napraw\r\n",
                "FROM Naprawy\r\n",
                "JOIN Urzadzenia ON Urzadzenia.id = Naprawy.urzadzenie_id\r\n",
                "GROUP BY producent\r\n",
                "ORDER BY liczba_napraw DESC;\r\n",
                "\r\n",
                "-- 6. Naprawy oczekujące po przyjęciu oraz w trakcie naprawy\r\n",
                "SELECT * FROM Naprawy\r\n",
                "WHERE status IN ('urządzenie przyjęte', 'w trakcie naprawy')\r\n",
                "ORDER BY data_przyjecia ASC, data_rozpoczecia ASC;\r\n",
                ""
            ],
            "metadata": {
                "azdata_cell_guid": "1f78bb19-8bde-485a-9767-1048b873b610",
                "language": "sql"
            },
            "outputs": [],
            "execution_count": null
        },
        {
            "cell_type": "markdown",
            "source": [
                "Uzupełnienie tabel danymi"
            ],
            "metadata": {
                "azdata_cell_guid": "5b863ef1-f576-4f01-a9cd-61290ebce390"
            },
            "attachments": {}
        }
    ]
}